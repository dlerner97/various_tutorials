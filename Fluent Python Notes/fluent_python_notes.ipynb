{
 "cells": [
  {
   "cell_type": "markdown",
   "source": [
    "# Fluent Python by Luciano Ramalho Notes"
   ],
   "metadata": {}
  },
  {
   "cell_type": "markdown",
   "source": [
    "## Chapter 2: An Array of Sequences\r\n"
   ],
   "metadata": {}
  },
  {
   "cell_type": "code",
   "execution_count": null,
   "source": [
    "# Generator Expressions (genexp) -> Basically list comp but for other data structs ie...\r\n",
    "color_size = tuple((color, size) for color in [\"red\", \"white\", \"blue\"] for size in [\"Large\", \"Medium\"])\r\n",
    "print(color_size)  # -> tuple\r\n",
    "# The double \"for\" works for list comp as well. Analogous to...\r\n",
    "# for color in ...:\r\n",
    "    # for size in ...:\r\n",
    "        # ...\r\n",
    "     \r\n",
    "# Genexps can also be used as iterators. The benefit is that the list is never written into memory!\r\n",
    "for tshirt in tuple((color, size) for color in [\"red\", \"white\", \"blue\"] for size in [\"Large\", \"Medium\"]):\r\n",
    "    print(tshirt) "
   ],
   "outputs": [],
   "metadata": {}
  },
  {
   "cell_type": "code",
   "execution_count": null,
   "source": [
    "# A \"*\" in tuple unpacking takes all remaining values and stores it in the variable\r\n",
    "first, second, *rest = (1,2,3,4)\r\n",
    "print(first, second, rest)"
   ],
   "outputs": [],
   "metadata": {}
  },
  {
   "cell_type": "code",
   "execution_count": null,
   "source": [
    "# collections.namedtuple are just like tuple but allow you to name the parameters.\r\n",
    "from collections import namedtuple\r\n",
    "City = namedtuple('city', 'name country population')\r\n",
    "tokyo = City('tokyo', 'japan', 36)\r\n",
    "print(tokyo[0], tokyo.country)"
   ],
   "outputs": [],
   "metadata": {}
  },
  {
   "cell_type": "code",
   "execution_count": null,
   "source": [
    "s = (3,4)\r\n",
    "s += (4,5)\r\n",
    "print(s)"
   ],
   "outputs": [],
   "metadata": {}
  },
  {
   "cell_type": "code",
   "execution_count": null,
   "source": [
    "# Indexing with \"var[:::]\" creates a slicing object which is used to index. We can also slice directly by self making a \"slice object\"\r\n",
    "# and can thus name slices\r\n",
    "my_list = ['red', 'white', 'apple']\r\n",
    "colors = slice(0, 2, 1)\r\n",
    "print(my_list[colors])\r\n",
    "\r\n",
    "# ... refers to all remaining dims in ndarray\r\n",
    "import numpy as np\r\n",
    "mat = np.zeros((2,2,2,2))\r\n",
    "print(mat[0, ...])"
   ],
   "outputs": [],
   "metadata": {}
  },
  {
   "cell_type": "code",
   "execution_count": null,
   "source": [
    "# array.array is basically a C++ array and is much more efficient than a python list. It can only contain numbers...\r\n",
    "# 'd' -> double precision float... 'b' is a byte. I'm sure they have others...\r\n",
    "from array import array\r\n",
    "my_arr = array('d', [2,2])\r\n",
    "print(my_arr, my_arr[0])\r\n",
    "# method my_arr.fromfile(open('filename', open_type)) takes numbers from file and stores it in array. my_arr.tofile() puts item in the file"
   ],
   "outputs": [],
   "metadata": {}
  },
  {
   "cell_type": "markdown",
   "source": [
    "## Chapter 3: Dictionaries and Sets\r\n"
   ],
   "metadata": {}
  },
  {
   "cell_type": "code",
   "execution_count": null,
   "source": [
    "# All immutable types are \"hashable.\" This means strings, bytes, numeric types and even tuples are even hashable. \r\n",
    "# Tuples are only hashable if all elements inside are also hashable. i.e. tuple of list is unhashable but tuple-ception is fine\r\n",
    "# A \"frozenset\" takes a mutable object and makes it immutable. Thus, while a list is mutable, the frozenset of a list is immutable\r\n",
    "print(hash((3,4)))\r\n",
    "print(hash(\"hello\"))\r\n",
    "print(hash(frozenset([3,4])))\r\n",
    "print(hash([3,4]))"
   ],
   "outputs": [],
   "metadata": {}
  },
  {
   "cell_type": "code",
   "execution_count": null,
   "source": [
    "a = dict(one=1, two=2)\r\n",
    "b = {'one':1, 'two':2}\r\n",
    "c = dict(zip(['one', 'two'], [1, 2]))\r\n",
    "d = dict([('two', 2), ('one', 1)])\r\n",
    "\r\n",
    "nums = [('one', 1), ('two', 2)]\r\n",
    "e = {string: num for string, num in nums}    # Dict comprehension\r\n",
    "\r\n",
    "a == b == c == d == e"
   ],
   "outputs": [],
   "metadata": {}
  },
  {
   "cell_type": "code",
   "execution_count": null,
   "source": [
    "# Set default is like dict.get() but actually applies the key value pair to the dict\r\n",
    "my_dict = {'five': 5, 'two':2}\r\n",
    "print(my_dict)\r\n",
    "my_dict.setdefault('six', 6)\r\n",
    "print(my_dict)\r\n",
    "my_dict.setdefault('five', 5)\r\n",
    "print(my_dict)"
   ],
   "outputs": [],
   "metadata": {}
  },
  {
   "cell_type": "code",
   "execution_count": null,
   "source": [
    "# A lot going on here... collections.defaultdict(object_type) automatically calls my_dict.setdefault() when using d[] and instantiates an\r\n",
    "# empty object of type object_type. The dunder-repr here just allows nice print outs \r\n",
    "class random_class:\r\n",
    "    rand_int: int = 0\r\n",
    "    def __repr__(self) -> str:\r\n",
    "        return f\"my rand int {self.rand_int}\"\r\n",
    "\r\n",
    "from collections import defaultdict\r\n",
    "d = defaultdict(random_class)\r\n",
    "print(d[\"hi\"])\r\n",
    "d[\"hello\"] = 14\r\n",
    "print(d)"
   ],
   "outputs": [],
   "metadata": {}
  },
  {
   "cell_type": "code",
   "execution_count": null,
   "source": [
    "# collections.OrderedDict -> dictionaries that retain insertion order\r\n",
    "# collections.ChainMap -> takes in a bunch of maps and searches through all (in order) until it finds key\r\n",
    "# collections.UserDict -> Is a base class for user custom dictionaries/maps\r\n",
    "# collecitons.Counter -> stores the number of value references for a given key... cool example below...\r\n",
    "from collections import Counter\r\n",
    "ct = Counter('asah edfjhdsgkj asg aslkjKHTy')\r\n",
    "print(ct)\r\n",
    "print(ct.most_common(3))\r\n"
   ],
   "outputs": [],
   "metadata": {}
  },
  {
   "cell_type": "code",
   "execution_count": null,
   "source": [
    "# A types.MappingProxyType(map) takes in a map and spits out a read-only (immutable) map view. If the original dictionary changes, \r\n",
    "# the proxy changes as well. However, one cannot change the proxy\r\n",
    "d = Counter('asah edfjhdsgkj asg aslkjKHTy')\r\n",
    "from types import MappingProxyType\r\n",
    "d_proxy = MappingProxyType(d)\r\n",
    "print(d_proxy['a'])\r\n",
    "d.update('aaa')\r\n",
    "print(d_proxy['a'])\r\n",
    "try:\r\n",
    "    d_proxy['a'] = 4\r\n",
    "except Exception as e:\r\n",
    "    print(e)\r\n"
   ],
   "outputs": [],
   "metadata": {}
  },
  {
   "cell_type": "code",
   "execution_count": null,
   "source": [
    "# A set is a collection of unique objects. Set removes duplicates and has operators to go with it.\r\n",
    "l = set(['hello', 'hi', 'hi']) \r\n",
    "print(l)\r\n",
    "t = {'hi', 'jello'} # {} means dict but if it's initialized without key-pairs then it becomes a set.\r\n",
    "print(l & t)\r\n",
    "print(l | t)\r\n",
    "print(l - t)\r\n",
    "\r\n",
    "from unicodedata import name\r\n",
    "cool_set = {chr(i) for i in range(32,256) if 'SIGN' in name(chr(i), '')}\r\n",
    "print(cool_set)"
   ],
   "outputs": [],
   "metadata": {}
  },
  {
   "cell_type": "markdown",
   "source": [
    "## Chapter 4: Text Vs. Byte"
   ],
   "metadata": {}
  },
  {
   "cell_type": "code",
   "execution_count": null,
   "source": [],
   "outputs": [],
   "metadata": {}
  },
  {
   "cell_type": "markdown",
   "source": [
    "## Chapter 5: Functions as Objects"
   ],
   "metadata": {}
  },
  {
   "cell_type": "code",
   "execution_count": null,
   "source": [
    "import random\r\n",
    "class Deck:\r\n",
    "    def __init__(self, items) -> None:\r\n",
    "        self._items = list(items)\r\n",
    "        random.shuffle(self._items)\r\n",
    "        \r\n",
    "    def pick(self):\r\n",
    "        try:\r\n",
    "            return self._items.pop()\r\n",
    "        except IndexError:\r\n",
    "            raise LookupError('pick from empty deck')\r\n",
    "    \r\n",
    "    # This dunder method allows class instances to work as functions  \r\n",
    "    def __call__(self):\r\n",
    "        return self.pick()\r\n",
    "    \r\n",
    "my_deck = Deck(range(10))\r\n",
    "card = my_deck()\r\n",
    "print(f\"My card is: {card}\")\r\n",
    "print(f\"Callable? {callable(my_deck)}\")"
   ],
   "outputs": [],
   "metadata": {}
  },
  {
   "cell_type": "code",
   "execution_count": null,
   "source": [
    "# Operator library has a bunch of standard operation functions (i.e. add, sub, concat... mul in this case is a function that takes two parameters and \r\n",
    "# multiplies them). Operator also has \"methodcaller\" which allows you to call object methods as well as itemgetter and attrgetter gets attributes you may need.mul\r\n",
    "# This is helpful for functions such as sorted. In sorted, we can set a key to a specific attribute\r\n",
    "from operator import mul\r\n",
    "\r\n",
    "# Partial takes a function and some parameters and returns the func with fewer parameters. See how it's used below\r\n",
    "from functools import partial\r\n",
    "\r\n",
    "triple = partial(mul, 3)\r\n",
    "print(triple(6))"
   ],
   "outputs": [],
   "metadata": {}
  },
  {
   "cell_type": "markdown",
   "source": [
    "## Chapter 6: Design Patterns with First-Class Functions"
   ],
   "metadata": {}
  },
  {
   "cell_type": "code",
   "execution_count": null,
   "source": [
    "class Order:\r\n",
    "    \r\n",
    "    def __init__(self, cart) -> None:\r\n",
    "        self.cart = cart\r\n",
    "    \r\n",
    "    def total(self):\r\n",
    "        if not hasattr(self, '__total'):\r\n",
    "            self.__total = sum(item.total for item in self.cart)\r\n",
    "        return self.__total"
   ],
   "outputs": [],
   "metadata": {}
  },
  {
   "cell_type": "code",
   "execution_count": null,
   "source": [
    "# Searches for all global variables that end with \"_promo\"\r\n",
    "promos = [globals()[name] for name in globals() if name.endswith('_promo')]\r\n",
    "\r\n",
    "# OR, we can have a module with a bunch of these functions and use...\r\n",
    "import inspect\r\n",
    "import promotions\r\n",
    "promos = [func for name, func in inspect.getmembers(promotions, inspect.isfunction)]\r\n"
   ],
   "outputs": [],
   "metadata": {}
  },
  {
   "cell_type": "markdown",
   "source": [
    "## Chapter 7: Function Decorators and Closures"
   ],
   "metadata": {}
  },
  {
   "cell_type": "code",
   "execution_count": null,
   "source": [
    "# This example display interesting python behaviour. If a variable is assigned within a function, python assumes that this variable must be a local\r\n",
    "# var during compilation of the function. Therefore, in f2, even though b is technically defined just as it was in f1, python throws an error\r\n",
    "# that b does not exist. \"global\" keyword overrides this behaviour\r\n",
    "b = 2\r\n",
    "def f1(a):\r\n",
    "    print(\"F1\")\r\n",
    "    print(a)\r\n",
    "    print(b)\r\n",
    "\r\n",
    "def f1_5(a):\r\n",
    "    print(\"\\nF1.5\")\r\n",
    "    global b\r\n",
    "    print(a)\r\n",
    "    print(b)\r\n",
    "    b = 4\r\n",
    "\r\n",
    "def f2(a):\r\n",
    "    print(\"\\nF2\")\r\n",
    "    print(a)\r\n",
    "    print(b)\r\n",
    "    b = 4\r\n",
    "    \r\n",
    "f1(1)\r\n",
    "f1_5(1)\r\n",
    "f2(1)"
   ],
   "outputs": [],
   "metadata": {}
  },
  {
   "cell_type": "code",
   "execution_count": null,
   "source": [
    "# Let's say we want a function that calculates the running average of numbers\r\n",
    "\r\n",
    "# We can use classes...\r\n",
    "class Averager():\r\n",
    "    def __init__(self) -> None:\r\n",
    "        self.series = []\r\n",
    "        \r\n",
    "    def __call__(self, new_value):\r\n",
    "        self.series.append(new_value)\r\n",
    "        total = sum(self.series)\r\n",
    "        return total/len(self.series)\r\n",
    "    \r\n",
    "# Or we can use nested functions and python's implementation of \"closures\"...\r\n",
    "def make_averager():        # The contents of this function are called the \"closure\"\r\n",
    "    series = []             # -> Free var. Closure is a func that retains bindings of the free vars when called later.\r\n",
    "    \r\n",
    "    def averager(new_value):\r\n",
    "        series.append(new_value)\r\n",
    "        total = sum(series)\r\n",
    "        return total/len(series)\r\n",
    "    \r\n",
    "    return averager\r\n",
    "\r\n",
    "avg_class = Averager()\r\n",
    "avg_func = make_averager()\r\n",
    "\r\n",
    "print(\"Avg of [10]...\")\r\n",
    "print(avg_class(10))\r\n",
    "print(avg_func(10))\r\n",
    "\r\n",
    "print(\"\\nAvg of [10, 11]...\")\r\n",
    "print(avg_class(11))\r\n",
    "print(avg_func(11))\r\n",
    "\r\n",
    "print(\"\\nAvg of [10, 11, 12]...\")\r\n",
    "print(avg_class(12))\r\n",
    "print(avg_func(12))"
   ],
   "outputs": [],
   "metadata": {}
  },
  {
   "cell_type": "code",
   "execution_count": null,
   "source": [
    "# The above code is inefficient because we store every value in a list. A better implementation is shown below.\r\n",
    "def make_averager_best():\r\n",
    "    count = 0\r\n",
    "    total = 0\r\n",
    "    \r\n",
    "    def averager(new_value):\r\n",
    "        nonlocal count, total           # Because \"count += 1\" is really \"count = count + 1\", we require this \"nonlocal\" term\r\n",
    "        count += 1\r\n",
    "        total += new_value\r\n",
    "        return total/count\r\n",
    "    \r\n",
    "    return averager\r\n",
    "\r\n",
    "# The nonlocal term prevents the behaviour from 2 blocks above where an \"=\" sign implies that the variable is local. \"nonlocal\" is similar to global\r\n",
    "# but we don't want to imply that those two values are global either. Therefore, the \"nonlocal\" keyword was invented for this reason.\r\n",
    "\r\n",
    "avg_func = make_averager_best()\r\n",
    "\r\n",
    "print(\"Avg of [10]...\")\r\n",
    "print(avg_func(10))\r\n",
    "\r\n",
    "print(\"\\nAvg of [10, 11]...\")\r\n",
    "print(avg_func(11))\r\n",
    "\r\n",
    "print(\"\\nAvg of [10, 11, 12]...\")\r\n",
    "print(avg_func(12))"
   ],
   "outputs": [],
   "metadata": {}
  },
  {
   "cell_type": "code",
   "execution_count": null,
   "source": [
    "def d1(func):\r\n",
    "    print(\"Execute d1\")\r\n",
    "    return func\r\n",
    "\r\n",
    "def d2(func):\r\n",
    "    print(\"Execute d2\")\r\n",
    "    return func\r\n",
    "\r\n",
    "@d1\r\n",
    "@d2\r\n",
    "def f():\r\n",
    "    print(\"Calling f\")\r\n",
    "    \r\n",
    "f()\r\n",
    "d1(d2(f))()"
   ],
   "outputs": [],
   "metadata": {}
  },
  {
   "cell_type": "code",
   "execution_count": null,
   "source": [
    "# Decorator factories allow decorators to take parameters by returning decorators\r\n",
    "# Let's say we want to time all functions but only want print outs for some.\r\n",
    "\r\n",
    "import time\r\n",
    "\r\n",
    "# Decorator factory\r\n",
    "def timer(print_=False):\r\n",
    "    # Decorator\r\n",
    "    def clock(func):\r\n",
    "        # Decorator function\r\n",
    "        def clocked(*args):\r\n",
    "            t0 = time.perf_counter()\r\n",
    "            result = func(*args)\r\n",
    "            elapsed = time.perf_counter() - t0\r\n",
    "            if print_:\r\n",
    "                name = func.__name__\r\n",
    "                arg_str = ', '.join(repr(arg) for arg in args)\r\n",
    "                print('[%0.8fs] %s(%s) -> %r' % (elapsed, name, arg_str, result))\r\n",
    "            return result\r\n",
    "        return clocked\r\n",
    "    return clock\r\n",
    "\r\n",
    "@timer(print_=True)\r\n",
    "def factorial(n):\r\n",
    "    return 1 if n < 2 else n*factorial(n-1)\r\n",
    "\r\n",
    "@timer()\r\n",
    "def double(n):\r\n",
    "    return n*2\r\n",
    "\r\n",
    "factorial(10)\r\n",
    "double(10)"
   ],
   "outputs": [],
   "metadata": {}
  },
  {
   "cell_type": "markdown",
   "source": [
    "## Chapter 8: Object-Oriented Idioms"
   ],
   "metadata": {}
  },
  {
   "cell_type": "code",
   "execution_count": null,
   "source": [
    "# Variables in python are sticky notes over boxes NOT the boxes themselves as shown in the example below\r\n",
    "a = [1,2,3]\r\n",
    "b = a\r\n",
    "b.append(4)\r\n",
    "a"
   ],
   "outputs": [],
   "metadata": {}
  },
  {
   "cell_type": "code",
   "execution_count": null,
   "source": [
    "# \"==\" compares the values of 2 objects while \"is\" compares the object ids i.e. whether they are aliases of the same instance\r\n",
    "# \"is\" is faster than \"==\" \r\n",
    "l1 = [4, 5, 6]\r\n",
    "l2 = l1\r\n",
    "\r\n",
    "l3 = [4, 5, 6]\r\n",
    "\r\n",
    "print(f\"l1 == l2: {l1 == l2}\")\r\n",
    "print(f\"l1 is l2: {l1 is l2}\")\r\n",
    "\r\n",
    "print(f\"l1 == l3: {l1 == l3}\")\r\n",
    "print(f\"l1 is l3: {l1 is l3}\")"
   ],
   "outputs": [],
   "metadata": {}
  },
  {
   "cell_type": "code",
   "execution_count": null,
   "source": [
    "# Easiest way to copy\r\n",
    "l1 = [[1], 2, 3, 4]\r\n",
    "l2 = l1             # Alias i.e. same object\r\n",
    "\r\n",
    "# The following are shallow copies. The inner values are references to the original objects in the list so only the outter container\r\n",
    "# is a copy. If the values are immutable (i.e. tuples, numbers, etc.), this should not matter. But is affected if a value is a list or other mutablae\r\n",
    "# sequences! \r\n",
    "l3 = list(l1)       # Shallow copy\r\n",
    "l4 = l1[:]          # Shallow copy\r\n",
    "\r\n",
    "print(f\"l1 == l2: {l1 == l2}\")\r\n",
    "print(f\"l1 is l2: {l1 is l2}\")\r\n",
    "\r\n",
    "print(f\"l1 == l3: {l1 == l3}\")\r\n",
    "print(f\"l1 is l3: {l1 is l3}\")\r\n",
    "\r\n",
    "print(f\"l1 == l4: {l1 == l4}\")\r\n",
    "print(f\"l1 is l4: {l1 is l4}\")\r\n",
    "\r\n",
    "print(f\"l1: {l1}\")\r\n",
    "l4[0].append(5)\r\n",
    "l4[1] = 5\r\n",
    "l1.append(20)\r\n",
    "print(f\"l1: {l1}\")\r\n",
    "print(f\"l4: {l4}\")"
   ],
   "outputs": [],
   "metadata": {}
  },
  {
   "cell_type": "code",
   "execution_count": null,
   "source": [
    "import copy\r\n",
    "\r\n",
    "l1 = [[1], 2, 3, 4]\r\n",
    "l2 = copy.copy(l1)          # Shallow copy\r\n",
    "l3 = copy.deepcopy(l1)      # Deep copy\r\n",
    "\r\n",
    "l1[0].append(3)\r\n",
    "print(\"l2:\", l2)\r\n",
    "print(\"l3:\", l3)"
   ],
   "outputs": [],
   "metadata": {}
  },
  {
   "cell_type": "code",
   "execution_count": null,
   "source": [
    "# Parameters are sent in as references but like shallow copies, immutable paramers will not be changed. \r\n",
    "def f(a, b):\r\n",
    "    a += b\r\n",
    "    return a\r\n",
    "\r\n",
    "x, y = 1, 2\r\n",
    "print(f\"f({x}, {y}):\", f(x, y), \"-> x, y =\", (x, y))\r\n",
    "\r\n",
    "x, y = [1,3], [2,4]\r\n",
    "print(f\"f({x}, {y}):\", f(x, y), \"-> x, y =\", (x, y))"
   ],
   "outputs": [],
   "metadata": {}
  },
  {
   "cell_type": "code",
   "execution_count": null,
   "source": [
    "# Dangers of mutable default parameters\r\n",
    "class Bus():\r\n",
    "    def __init__(self, passengers=[]) -> None:\r\n",
    "        self.passengers = passengers\r\n",
    "        \r\n",
    "    def pick(self, name):\r\n",
    "        self.passengers.append(name)\r\n",
    "        \r\n",
    "    def drop(self, name):\r\n",
    "        self.passengers.remove(name)\r\n",
    "        \r\n",
    "    def __repr__(self) -> str:\r\n",
    "        return str(self.passengers)\r\n",
    "        \r\n",
    "# Our passenger list gets assigned to the default parameter. Then we append to that original list\r\n",
    "bus1 = Bus()\r\n",
    "bus1.pick(\"George\")\r\n",
    "\r\n",
    "# When a second bus is initialized, it now gets assigned to the altered list!\r\n",
    "bus2 = Bus()\r\n",
    "print(\"bus2:\", bus2)\r\n",
    "print(Bus.__init__.__defaults__)\r\n",
    "\r\n",
    "# Similarly...\r\n",
    "basketball_team = [\"Lebron\", \"Dwade\", \"Dinosaur\"]\r\n",
    "baller_bus = Bus(basketball_team)\r\n",
    "baller_bus.drop(\"Lebron\")\r\n",
    "print(f\"basketball team\", basketball_team)"
   ],
   "outputs": [],
   "metadata": {}
  },
  {
   "cell_type": "code",
   "execution_count": null,
   "source": [
    "# Better version of above\r\n",
    "class Bus():\r\n",
    "    def __init__(self, passengers=None) -> None:\r\n",
    "        if passengers is None:\r\n",
    "            self.passengers = []\r\n",
    "        else:\r\n",
    "            self.passengers = list(passengers)\r\n",
    "        \r\n",
    "    def pick(self, name):\r\n",
    "        self.passengers.append(name)\r\n",
    "        \r\n",
    "    def drop(self, name):\r\n",
    "        self.passengers.remove(name)\r\n",
    "        \r\n",
    "    def __repr__(self) -> str:\r\n",
    "        return str(self.passengers)\r\n",
    "        \r\n",
    "# Our passenger list gets assigned to the default parameter. Then we append to that original list\r\n",
    "bus1 = Bus()\r\n",
    "bus1.pick(\"George\")\r\n",
    "\r\n",
    "# When a second bus is initialized, it now gets assigned to the altered list!\r\n",
    "bus2 = Bus()\r\n",
    "print(\"bus2:\", bus2)\r\n",
    "print(Bus.__init__.__defaults__)\r\n",
    "\r\n",
    "# Similarly...\r\n",
    "basketball_team = [\"Lebron\", \"Dwade\", \"Dinosaur\"]\r\n",
    "baller_bus = Bus(basketball_team)\r\n",
    "baller_bus.drop(\"Lebron\")\r\n",
    "print(f\"basketball team\", basketball_team)"
   ],
   "outputs": [],
   "metadata": {}
  },
  {
   "cell_type": "markdown",
   "source": [
    "## Chapter 9: A Pythonic Object"
   ],
   "metadata": {}
  },
  {
   "cell_type": "markdown",
   "source": [
    "String representation of objects:  \r\n",
    "  * repr() -> How a developer wants to see it  \r\n",
    "  * str()  -> How a user wants to see it  "
   ],
   "metadata": {}
  },
  {
   "cell_type": "code",
   "execution_count": null,
   "source": [
    "# Vector class in python with a lot of useful dundermethod implementations\r\n",
    "class Vector2d:\r\n",
    "    typecode = 'd' # Class attribute we'll use when converting instances to/from bytes\r\n",
    "    \r\n",
    "    # Generally attrs are stored in dicts but dicts have very significant memory overhead. __slots__ tells the interpreter exactly what's being stored\r\n",
    "    # and stores it as a tuple instead, cutting the memory usage significantly\r\n",
    "    __slots__ = ('__x', '__y') \r\n",
    "    \r\n",
    "    def __init__(self, x, y) -> None:\r\n",
    "        self.__x = float(x)         # Read-only vars\r\n",
    "        self.__y = float(y)\r\n",
    "     \r\n",
    "    # This decorator marks the function as a getter property\r\n",
    "    @property    \r\n",
    "    def x(self):\r\n",
    "        return self.__x\r\n",
    "    \r\n",
    "    @property\r\n",
    "    def y(self):\r\n",
    "        return self.__y\r\n",
    "        \r\n",
    "    def __iter__(self):\r\n",
    "        return (i for i in (self.x, self.y))    # Allows tuple unpacking i.e. x,y = vector_2d will work\r\n",
    "    \r\n",
    "    def __repr__(self) -> str:\r\n",
    "        class_name = type(self).__name__\r\n",
    "        return '{}({!r}, {!r})'.format(class_name, *self) # Uses the above iter to print out the x,y values\r\n",
    "    \r\n",
    "    def __str__(self) -> str:\r\n",
    "        return str(tuple(self))\r\n",
    "    \r\n",
    "    def __bytes__(self):\r\n",
    "        return (bytes([ord(self.typecode)]) + bytes(array(self.typecode, self))) # Don't understand what this does\r\n",
    "    \r\n",
    "    def __eq__(self, o: object) -> bool: # Issue! If another objects spits out an equivalent tuple, then this will trigger equality!\r\n",
    "        return tuple(self) == tuple(o)\r\n",
    "    \r\n",
    "    # To have hash method, we need vector to be immutable. So, x and y are read-only params. We also need an __eq__ method.\r\n",
    "    def __hash__(self) -> int:\r\n",
    "        # We want the hash to depend on x and y so that two defined vectors with the same x,y have the same hash. ^ is a bitwise XOR\r\n",
    "        # and is suggested for mixing hashes. \r\n",
    "        return hash(self.x) ^ hash(self.y)\r\n",
    "    \r\n",
    "    def __abs__(self):\r\n",
    "        from math import hypot\r\n",
    "        return hypot(self.x, self.y)\r\n",
    "    \r\n",
    "    def __bool__(self):\r\n",
    "        return bool(abs(self))\r\n",
    "    \r\n",
    "    # Creates instance from bytes directly\r\n",
    "    @classmethod\r\n",
    "    def frombytes(cls, octets):\r\n",
    "        typecode = chr(octets[0])\r\n",
    "        memv = memoryview(octets[1:]).cast(typecode)\r\n",
    "        return cls(*memv)\r\n",
    "    \r\n",
    "    # Class method vs. static method. Class method is a method that belongs to a class and takes in the class as its first argument rather \r\n",
    "    # than an instance (i.e. self). These are mostly used as alternate constructors. Here, we create an alternate constructor spinning up\r\n",
    "    # a class from bytes. A static method (or @staticmethod) is a function that takes in no extra parameters and is more like a function that happens to be \r\n",
    "    # defined in a class\r\n",
    "    \r\n",
    "    def angle(self):\r\n",
    "        from math import atan2\r\n",
    "        return atan2(self.y, self.x)\r\n",
    "    \r\n",
    "    def __format__(self, format_spec: str='') -> str:\r\n",
    "        if format_spec.endswith('p'):\r\n",
    "            format_spec = format_spec[:-1]\r\n",
    "            coords = (abs(self), self.angle())\r\n",
    "            outer_fmt = '<{}, {}>'\r\n",
    "        else:\r\n",
    "            coords = self\r\n",
    "            outer_fmt = '({}, {})'\r\n",
    "            \r\n",
    "        components = (format(c, format_spec) for c in coords)\r\n",
    "        return outer_fmt.format(*components)\r\n",
    "    \r\n",
    "vector = Vector2d(3,4)\r\n",
    "print(\"Calling polar format 3 dec places\", format(vector, '.3ep'))\r\n",
    "print(\"Calling normal format 3 dec places\", format(vector, '.3e'))\r\n",
    "print(\"Calling str representation\", vector)\r\n",
    "print(\"Calling repr representation\", repr(vector))\r\n",
    "\r\n",
    "x, y = vector\r\n",
    "print(\"Tuple unpacking repr\", (x, y))\r\n",
    "print(\"Obj equality\", Vector2d(3,4) == vector)\r\n",
    "my_dict = {vector: \"hello\", Vector2d(5,2): 'hi'}\r\n",
    "print(\"Since hashable, we can use in dict keys\", my_dict)\r\n",
    "\r\n",
    "v1 = eval(repr(vector)) # Evaluates the string repr of vector, thereby creating an identical obj\r\n",
    "print(\"Equivalent v1:\", v1, v1 == vector)\r\n",
    "\r\n",
    "# If an object var starts with \"__\", python auto concatenates _{class_name} to it as a simple protection.\r\n",
    "# This prevents unknowing users to change variable that they shouldn't be changing but doesn't protect from malicious use!\r\n",
    "# This is called name mangling\r\n",
    "try:\r\n",
    "    print(vector.__x) \r\n",
    "except Exception as e:\r\n",
    "    print(e)\r\n",
    "    \r\n",
    "print(vector._Vector2d__x)"
   ],
   "outputs": [],
   "metadata": {}
  },
  {
   "cell_type": "markdown",
   "source": [],
   "metadata": {}
  }
 ],
 "metadata": {
  "orig_nbformat": 4,
  "language_info": {
   "name": "python",
   "version": "3.8.5",
   "mimetype": "text/x-python",
   "codemirror_mode": {
    "name": "ipython",
    "version": 3
   },
   "pygments_lexer": "ipython3",
   "nbconvert_exporter": "python",
   "file_extension": ".py"
  },
  "kernelspec": {
   "name": "python3",
   "display_name": "Python 3.8.5 64-bit ('base': conda)"
  },
  "interpreter": {
   "hash": "5c94d941f04ee62c76b688b2d8fec5553ee12d95851faa3b96fb3b1540a6ecbb"
  }
 },
 "nbformat": 4,
 "nbformat_minor": 2
}