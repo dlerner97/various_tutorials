{
 "cells": [
  {
   "cell_type": "markdown",
   "source": [
    "## Chapter 10: Sequence Hacking, Hashing, and Slicing"
   ],
   "metadata": {}
  },
  {
   "cell_type": "code",
   "execution_count": null,
   "source": [
    "from array import array\r\n",
    "import reprlib\r\n",
    "import numbers\r\n",
    "import math\r\n",
    "import functools\r\n",
    "import operator\r\n",
    "\r\n",
    "class Vector:\r\n",
    "    typecode = 'd'\r\n",
    "    shortcut_names = 'xyzt'    \r\n",
    "    \r\n",
    "    def __init__(self, components) -> None:\r\n",
    "        self._components = array(self.typecode, components)\r\n",
    "        \r\n",
    "    def __iter__(self):\r\n",
    "        return iter(self._components)\r\n",
    "    \r\n",
    "    def __repr__(self) -> str:\r\n",
    "        # This lib gives us a limited-length representation of the array\r\n",
    "        components = reprlib.repr(self._components)\r\n",
    "        components = components[components.find('['):-1]\r\n",
    "        return 'Vector({})'.format(components)\r\n",
    "    \r\n",
    "    def __str__(self) -> str:\r\n",
    "        return str(tuple(self))\r\n",
    "    \r\n",
    "    def __abs__(self):\r\n",
    "        return math.sqrt(sum(x * x for x in self))\r\n",
    "    \r\n",
    "    def __bool__(self):\r\n",
    "        return bool(abs(self))\r\n",
    "    \r\n",
    "    # With the next two functions defined, objs of this class will be iterators\r\n",
    "    def __len__(self):\r\n",
    "        return len(self._components)\r\n",
    "    \r\n",
    "    # Now, when we grab a slice from a vector, we will get a similar vector, with just the sliced values.\r\n",
    "    def __getitem__(self, index):\r\n",
    "        cls = type(self)\r\n",
    "        \r\n",
    "        # If the index is actually a slice, then return a vector of equivalent type containing the sliced values.\r\n",
    "        if isinstance(index, slice):\r\n",
    "            return cls(self._components[index])\r\n",
    "        # If it's just an int, return the value at that index\r\n",
    "        elif isinstance(index, numbers.Integral):\r\n",
    "            return self._components[index]\r\n",
    "        else:\r\n",
    "            msg = f\"{cls.__name__} indices must be integers\"\r\n",
    "            raise TypeError(msg)\r\n",
    "        \r\n",
    "    # When extracting an obj attribute, the compiler first searches to see if any exist. If not, it calls\r\n",
    "    # the following dunder method. Now, we use any of the \"short-cut\" names to determine a given value.\r\n",
    "    # Eg with \"v = Vector([1, 2, 3])\", saying \"v.y\" corresponds to 2 because of the following declaration\r\n",
    "    def __getattr__(self, name: str):\r\n",
    "        cls = type(self)\r\n",
    "        if len(name) == 1:\r\n",
    "            pos = cls.shortcut_names.find(name)\r\n",
    "            if 0 <= pos < len(self._components):\r\n",
    "                return self._components[pos]\r\n",
    "            \r\n",
    "        msg = f\"{cls.__name__} has no attribute {name}\"\r\n",
    "        raise AttributeError(msg)\r\n",
    "    \r\n",
    "    # __getattr__ is read only. We must also construct a __setattr__ if we'd like to set values or control how the read-only parameters are read.\r\n",
    "    # The function above has a problem that if someone says \"v.x = 4\", this will create a new parameter called x within v. Therefore, we must throw\r\n",
    "    # an error upon setting any of the shortcut names.\r\n",
    "    def __setattr__(self, name: str, value) -> None:\r\n",
    "        cls = type(self)\r\n",
    "        if len(name) == 1:\r\n",
    "            if name in cls.shortcut_names:\r\n",
    "                error = f'read-only attribute {name}'\r\n",
    "            elif name.islower():\r\n",
    "                error = f\"can't set attributes 'a' to 'z' in {cls.__name__}\"\r\n",
    "            else:\r\n",
    "                error = \"\"\r\n",
    "            \r\n",
    "            if error:\r\n",
    "                raise AttributeError(error)\r\n",
    "            \r\n",
    "        super().__setattr__(name, value)\r\n",
    "        \r\n",
    "    def __eq__(self, o: object) -> bool:\r\n",
    "        # return tuple(self) == tuple(o)  ->  This is highly inefficient for large vectors since we are building a new tuple from scratch and\r\n",
    "        #                                     must be build by copy. Also, any data struct that happens to have the same numbers\r\n",
    "        #                                     will still come out equal. Therefore, we do the following instead...\r\n",
    "        \r\n",
    "        if (type(self) != type(o)) or (len(self) != len(o)):\r\n",
    "            return False\r\n",
    "        \r\n",
    "        # The following is great and pythonic but still not ideal cause for loops in python are slow.\r\n",
    "        # for a, b in zip(self, o):\r\n",
    "        #     if a != b:\r\n",
    "        #         return False\r\n",
    "        # return True\r\n",
    "        \r\n",
    "        return all(a == b for a, b in zip(self, o)) # Best solution!\r\n",
    "        \r\n",
    "    def __hash__(self) -> int:\r\n",
    "        # hashes = (hash(x) for x in self._components)  ->  Also works but preferred method is below\r\n",
    "        hashes = map(hash, self._components)\r\n",
    "        \r\n",
    "        # The reduce func uses an operator to aggregate an iterator into a single value. The \"0\" is the initial value\r\n",
    "        return functools.reduce(operator.xor, hashes, 0)"
   ],
   "outputs": [],
   "metadata": {}
  },
  {
   "cell_type": "code",
   "execution_count": 3,
   "source": [
    "from itertools import chain # Basically flattens iterables then horizontally concatenates them \r\n",
    "list(chain('hello', ' ', 'friend'))\r\n"
   ],
   "outputs": [
    {
     "output_type": "execute_result",
     "data": {
      "text/plain": [
       "['h', 'e', 'l', 'l', 'o', ' ', 'f', 'r', 'i', 'e', 'n', 'd']"
      ]
     },
     "metadata": {},
     "execution_count": 3
    }
   ],
   "metadata": {}
  }
 ],
 "metadata": {
  "orig_nbformat": 4,
  "language_info": {
   "name": "python",
   "version": "3.8.5",
   "mimetype": "text/x-python",
   "codemirror_mode": {
    "name": "ipython",
    "version": 3
   },
   "pygments_lexer": "ipython3",
   "nbconvert_exporter": "python",
   "file_extension": ".py"
  },
  "kernelspec": {
   "name": "python3",
   "display_name": "Python 3.8.5 64-bit ('base': conda)"
  },
  "interpreter": {
   "hash": "5c94d941f04ee62c76b688b2d8fec5553ee12d95851faa3b96fb3b1540a6ecbb"
  }
 },
 "nbformat": 4,
 "nbformat_minor": 2
}